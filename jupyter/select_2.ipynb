{
 "cells": [
  {
   "cell_type": "code",
   "execution_count": 550,
   "metadata": {},
   "outputs": [
    {
     "name": "stdout",
     "output_type": "stream",
     "text": [
      "打印样本数据\n"
     ]
    }
   ],
   "source": [
    "import pandas as pd\n",
    "import numpy as np\n",
    "import matplotlib.pyplot as plt\n",
    "\n",
    "from pylab import mpl\n",
    "#mpl.rcParams['font.sans-serif'] = ['SimHei']\n",
    "mpl.rcParams['font.sans-serif'] = ['Microsoft YaHei']    # 指定默认字体：解决plot不能显示中文问题\n",
    "mpl.rcParams['axes.unicode_minus'] = False           # 解决保存图像是负号'-'显示为方块的问题\n",
    "\n",
    "\n",
    "# def load_data():\n",
    "#     df_train=pd.read_excel('order_is_cash_2_hz.xlsx')\n",
    "# #     df_train.drop(['Unnamed: 0'],inplace=True,axis=1)\n",
    "#     return df_train\n",
    "\n",
    "df_train=pd.read_excel('order_is_cash_2_hz.xlsx')\n",
    "df_train['result'] = 1\n",
    "# df2=pd.read_excel('order_is_cash_3_hz.xlsx')\n",
    "# df2['result'] = 0\n",
    "# df_train = df1.append(df2)\n",
    "print('打印样本数据')"
   ]
  },
  {
   "cell_type": "code",
   "execution_count": 551,
   "metadata": {},
   "outputs": [
    {
     "data": {
      "text/html": [
       "<div>\n",
       "<style scoped>\n",
       "    .dataframe tbody tr th:only-of-type {\n",
       "        vertical-align: middle;\n",
       "    }\n",
       "\n",
       "    .dataframe tbody tr th {\n",
       "        vertical-align: top;\n",
       "    }\n",
       "\n",
       "    .dataframe thead th {\n",
       "        text-align: right;\n",
       "    }\n",
       "</style>\n",
       "<table border=\"1\" class=\"dataframe\">\n",
       "  <thead>\n",
       "    <tr style=\"text-align: right;\">\n",
       "      <th></th>\n",
       "      <th>客单价</th>\n",
       "      <th>用户数</th>\n",
       "      <th>总笔数/用户数</th>\n",
       "      <th>总金额/用户数</th>\n",
       "      <th>近12月有交易的月数</th>\n",
       "      <th>近1月交易天数</th>\n",
       "      <th>近3月交易天数</th>\n",
       "      <th>近6月交易天数</th>\n",
       "      <th>近12月交易天数</th>\n",
       "      <th>近1月交易笔数</th>\n",
       "      <th>...</th>\n",
       "      <th>近12月交易总金额</th>\n",
       "      <th>近1月22:00~04:00的交易总笔数</th>\n",
       "      <th>近1月22:00~04:00的交易总金额</th>\n",
       "      <th>近3月22:00~04:00的交易总笔数</th>\n",
       "      <th>近3月22:00~04:00的交易总金额</th>\n",
       "      <th>近6月22:00~04:00的交易总笔数</th>\n",
       "      <th>近6月22:00~04:00的交易总金额</th>\n",
       "      <th>近12月22:00~04:00的交易总笔数</th>\n",
       "      <th>近12月22:00~04:00的交易总金额</th>\n",
       "      <th>result</th>\n",
       "    </tr>\n",
       "  </thead>\n",
       "  <tbody>\n",
       "    <tr>\n",
       "      <th>0</th>\n",
       "      <td>2202.22</td>\n",
       "      <td>20.0</td>\n",
       "      <td>30.00</td>\n",
       "      <td>66066.53</td>\n",
       "      <td>7.0</td>\n",
       "      <td>12.0</td>\n",
       "      <td>35.0</td>\n",
       "      <td>92.0</td>\n",
       "      <td>104.0</td>\n",
       "      <td>27.0</td>\n",
       "      <td>...</td>\n",
       "      <td>1321330.55</td>\n",
       "      <td>4.0</td>\n",
       "      <td>40253.95</td>\n",
       "      <td>21.0</td>\n",
       "      <td>91802.45</td>\n",
       "      <td>176.0</td>\n",
       "      <td>399445.35</td>\n",
       "      <td>213.0</td>\n",
       "      <td>410420.35</td>\n",
       "      <td>1</td>\n",
       "    </tr>\n",
       "    <tr>\n",
       "      <th>1</th>\n",
       "      <td>3299.91</td>\n",
       "      <td>14.0</td>\n",
       "      <td>22.07</td>\n",
       "      <td>72833.72</td>\n",
       "      <td>11.0</td>\n",
       "      <td>7.0</td>\n",
       "      <td>19.0</td>\n",
       "      <td>53.0</td>\n",
       "      <td>71.0</td>\n",
       "      <td>29.0</td>\n",
       "      <td>...</td>\n",
       "      <td>1019672.03</td>\n",
       "      <td>4.0</td>\n",
       "      <td>19479.90</td>\n",
       "      <td>8.0</td>\n",
       "      <td>31329.90</td>\n",
       "      <td>73.0</td>\n",
       "      <td>226936.78</td>\n",
       "      <td>80.0</td>\n",
       "      <td>258503.78</td>\n",
       "      <td>1</td>\n",
       "    </tr>\n",
       "    <tr>\n",
       "      <th>2</th>\n",
       "      <td>1486.66</td>\n",
       "      <td>262.0</td>\n",
       "      <td>1.11</td>\n",
       "      <td>1656.89</td>\n",
       "      <td>11.0</td>\n",
       "      <td>18.0</td>\n",
       "      <td>50.0</td>\n",
       "      <td>105.0</td>\n",
       "      <td>174.0</td>\n",
       "      <td>29.0</td>\n",
       "      <td>...</td>\n",
       "      <td>434106.00</td>\n",
       "      <td>1.0</td>\n",
       "      <td>1800.00</td>\n",
       "      <td>2.0</td>\n",
       "      <td>2815.00</td>\n",
       "      <td>2.0</td>\n",
       "      <td>2815.00</td>\n",
       "      <td>3.0</td>\n",
       "      <td>3515.00</td>\n",
       "      <td>1</td>\n",
       "    </tr>\n",
       "    <tr>\n",
       "      <th>3</th>\n",
       "      <td>21626.89</td>\n",
       "      <td>134.0</td>\n",
       "      <td>2.05</td>\n",
       "      <td>44383.54</td>\n",
       "      <td>9.0</td>\n",
       "      <td>10.0</td>\n",
       "      <td>45.0</td>\n",
       "      <td>96.0</td>\n",
       "      <td>134.0</td>\n",
       "      <td>23.0</td>\n",
       "      <td>...</td>\n",
       "      <td>5947394.70</td>\n",
       "      <td>1.0</td>\n",
       "      <td>49985.00</td>\n",
       "      <td>1.0</td>\n",
       "      <td>49985.00</td>\n",
       "      <td>3.0</td>\n",
       "      <td>88551.00</td>\n",
       "      <td>4.0</td>\n",
       "      <td>102421.00</td>\n",
       "      <td>1</td>\n",
       "    </tr>\n",
       "    <tr>\n",
       "      <th>4</th>\n",
       "      <td>5903.53</td>\n",
       "      <td>19.0</td>\n",
       "      <td>14.37</td>\n",
       "      <td>84824.47</td>\n",
       "      <td>7.0</td>\n",
       "      <td>4.0</td>\n",
       "      <td>30.0</td>\n",
       "      <td>92.0</td>\n",
       "      <td>106.0</td>\n",
       "      <td>7.0</td>\n",
       "      <td>...</td>\n",
       "      <td>1611665.00</td>\n",
       "      <td>1.0</td>\n",
       "      <td>7790.00</td>\n",
       "      <td>5.0</td>\n",
       "      <td>21200.00</td>\n",
       "      <td>17.0</td>\n",
       "      <td>66105.00</td>\n",
       "      <td>17.0</td>\n",
       "      <td>66105.00</td>\n",
       "      <td>1</td>\n",
       "    </tr>\n",
       "  </tbody>\n",
       "</table>\n",
       "<p>5 rows × 26 columns</p>\n",
       "</div>"
      ],
      "text/plain": [
       "        客单价    用户数  总笔数/用户数   总金额/用户数  近12月有交易的月数  近1月交易天数  近3月交易天数  近6月交易天数  \\\n",
       "0   2202.22   20.0    30.00  66066.53         7.0     12.0     35.0     92.0   \n",
       "1   3299.91   14.0    22.07  72833.72        11.0      7.0     19.0     53.0   \n",
       "2   1486.66  262.0     1.11   1656.89        11.0     18.0     50.0    105.0   \n",
       "3  21626.89  134.0     2.05  44383.54         9.0     10.0     45.0     96.0   \n",
       "4   5903.53   19.0    14.37  84824.47         7.0      4.0     30.0     92.0   \n",
       "\n",
       "   近12月交易天数  近1月交易笔数  ...   近12月交易总金额  近1月22:00~04:00的交易总笔数  \\\n",
       "0     104.0     27.0  ...  1321330.55                   4.0   \n",
       "1      71.0     29.0  ...  1019672.03                   4.0   \n",
       "2     174.0     29.0  ...   434106.00                   1.0   \n",
       "3     134.0     23.0  ...  5947394.70                   1.0   \n",
       "4     106.0      7.0  ...  1611665.00                   1.0   \n",
       "\n",
       "   近1月22:00~04:00的交易总金额  近3月22:00~04:00的交易总笔数  近3月22:00~04:00的交易总金额  \\\n",
       "0              40253.95                  21.0              91802.45   \n",
       "1              19479.90                   8.0              31329.90   \n",
       "2               1800.00                   2.0               2815.00   \n",
       "3              49985.00                   1.0              49985.00   \n",
       "4               7790.00                   5.0              21200.00   \n",
       "\n",
       "   近6月22:00~04:00的交易总笔数  近6月22:00~04:00的交易总金额  近12月22:00~04:00的交易总笔数  \\\n",
       "0                 176.0             399445.35                  213.0   \n",
       "1                  73.0             226936.78                   80.0   \n",
       "2                   2.0               2815.00                    3.0   \n",
       "3                   3.0              88551.00                    4.0   \n",
       "4                  17.0              66105.00                   17.0   \n",
       "\n",
       "   近12月22:00~04:00的交易总金额  result  \n",
       "0              410420.35       1  \n",
       "1              258503.78       1  \n",
       "2                3515.00       1  \n",
       "3              102421.00       1  \n",
       "4               66105.00       1  \n",
       "\n",
       "[5 rows x 26 columns]"
      ]
     },
     "execution_count": 551,
     "metadata": {},
     "output_type": "execute_result"
    }
   ],
   "source": [
    "df_train.drop(['商户号','总笔数','总金额'],axis=1,inplace=True)\n",
    "df_train.head()\n"
   ]
  },
  {
   "cell_type": "code",
   "execution_count": 552,
   "metadata": {},
   "outputs": [
    {
     "name": "stdout",
     "output_type": "stream",
     "text": [
      "(479, 26)\n",
      "<class 'pandas.core.frame.DataFrame'>\n",
      "RangeIndex: 479 entries, 0 to 478\n",
      "Data columns (total 26 columns):\n",
      "客单价                      479 non-null float64\n",
      "用户数                      479 non-null float64\n",
      "总笔数/用户数                  479 non-null float64\n",
      "总金额/用户数                  479 non-null float64\n",
      "近12月有交易的月数               479 non-null float64\n",
      "近1月交易天数                  479 non-null float64\n",
      "近3月交易天数                  479 non-null float64\n",
      "近6月交易天数                  479 non-null float64\n",
      "近12月交易天数                 479 non-null float64\n",
      "近1月交易笔数                  479 non-null float64\n",
      "近1月交易总金额                 479 non-null float64\n",
      "近3月交易笔数                  479 non-null float64\n",
      "近3月交易总金额                 479 non-null float64\n",
      "近6月交易笔数                  479 non-null float64\n",
      "近6月交易总金额                 479 non-null float64\n",
      "近12月交易笔数                 479 non-null float64\n",
      "近12月交易总金额                479 non-null float64\n",
      "近1月22:00~04:00的交易总笔数     479 non-null float64\n",
      "近1月22:00~04:00的交易总金额     479 non-null float64\n",
      "近3月22:00~04:00的交易总笔数     479 non-null float64\n",
      "近3月22:00~04:00的交易总金额     479 non-null float64\n",
      "近6月22:00~04:00的交易总笔数     479 non-null float64\n",
      "近6月22:00~04:00的交易总金额     479 non-null float64\n",
      "近12月22:00~04:00的交易总笔数    479 non-null float64\n",
      "近12月22:00~04:00的交易总金额    479 non-null float64\n",
      "result                   479 non-null int64\n",
      "dtypes: float64(25), int64(1)\n",
      "memory usage: 97.4 KB\n"
     ]
    }
   ],
   "source": [
    "print(df_train.shape)\n",
    "df_train.info()"
   ]
  },
  {
   "cell_type": "code",
   "execution_count": 553,
   "metadata": {},
   "outputs": [],
   "source": [
    "def outlier_check(df,c_name):\n",
    "    p=df[[c_name]].boxplot(return_type='dict')\n",
    "#     print(p)\n",
    "#     print(type(p))\n",
    "    x_outliers=p['fliers'][0].get_xdata()\n",
    "#     print(type(x_outliers))\n",
    "#     print('x_outliers:');print(x_outliers)\n",
    "    y_outliers = p['fliers'][0].get_ydata()\n",
    "#     print(type(y_outliers))\n",
    "#     print('y_outliers:');print(y_outliers)\n",
    "    for j in range(1):\n",
    "#         print('j:',j)\n",
    "        plt.annotate(y_outliers[j], xy=(x_outliers[j], y_outliers[j]), xytext=(x_outliers[j] + 0.02, y_outliers[j]))\n",
    "    plt.show()  "
   ]
  },
  {
   "cell_type": "code",
   "execution_count": 554,
   "metadata": {},
   "outputs": [
    {
     "name": "stdout",
     "output_type": "stream",
     "text": [
      "变量【客单价】的极值图形分布如下\n"
     ]
    },
    {
     "data": {
      "image/png": "[encoded data removed]",
      "text/plain": [
       "<Figure size 432x288 with 1 Axes>"
      ]
     },
     "metadata": {
      "needs_background": "light"
     },
     "output_type": "display_data"
    },
    {
     "name": "stdout",
     "output_type": "stream",
     "text": [
      "删除变量【客单价20000以上的记录\n",
      "(460, 26)\n"
     ]
    }
   ],
   "source": [
    "print(\"变量【客单价】的极值图形分布如下\")\n",
    "outlier_check(df_train,'客单价')\n",
    "print(\"删除变量【客单价20000以上的记录\")\n",
    "df_train=df_train[df_train['客单价']<20000]\n",
    "print(df_train.shape)"
   ]
  },
  {
   "cell_type": "code",
   "execution_count": 555,
   "metadata": {},
   "outputs": [
    {
     "name": "stdout",
     "output_type": "stream",
     "text": [
      "变量【用户数】的极值图形分布如下\n"
     ]
    },
    {
     "data": {
      "image/png": "[encoded data removed]",
      "text/plain": [
       "<Figure size 432x288 with 1 Axes>"
      ]
     },
     "metadata": {
      "needs_background": "light"
     },
     "output_type": "display_data"
    },
    {
     "name": "stdout",
     "output_type": "stream",
     "text": [
      "删除变量【用户数】50以上的记录\n",
      "(448, 26)\n"
     ]
    }
   ],
   "source": [
    "print(\"变量【用户数】的极值图形分布如下\")\n",
    "outlier_check(df_train,'用户数')\n",
    "print(\"删除变量【用户数】50以上的记录\")\n",
    "df_train=df_train[df_train['用户数']<50]\n",
    "print(df_train.shape)"
   ]
  },
  {
   "cell_type": "code",
   "execution_count": 556,
   "metadata": {},
   "outputs": [
    {
     "name": "stdout",
     "output_type": "stream",
     "text": [
      "变量【总笔数/用户数】的极值图形分布如下\n"
     ]
    },
    {
     "data": {
      "image/png": "[encoded data removed]",
      "text/plain": [
       "<Figure size 432x288 with 1 Axes>"
      ]
     },
     "metadata": {
      "needs_background": "light"
     },
     "output_type": "display_data"
    },
    {
     "name": "stdout",
     "output_type": "stream",
     "text": [
      "删除变量【总笔数/用户数20以上的记录\n",
      "(431, 26)\n"
     ]
    }
   ],
   "source": [
    "print(\"变量【总笔数/用户数】的极值图形分布如下\")\n",
    "outlier_check(df_train,'总笔数/用户数')\n",
    "print(\"删除变量【总笔数/用户数20以上的记录\")\n",
    "df_train=df_train[df_train['总笔数/用户数']<15]\n",
    "print(df_train.shape)"
   ]
  },
  {
   "cell_type": "code",
   "execution_count": 557,
   "metadata": {},
   "outputs": [
    {
     "name": "stdout",
     "output_type": "stream",
     "text": [
      "变量【总金额/用户数】的极值图形分布如下\n"
     ]
    },
    {
     "data": {
      "image/png": "[encoded data removed]",
      "text/plain": [
       "<Figure size 432x288 with 1 Axes>"
      ]
     },
     "metadata": {
      "needs_background": "light"
     },
     "output_type": "display_data"
    },
    {
     "name": "stdout",
     "output_type": "stream",
     "text": [
      "删除变量【总金额/用户数100000以上的记录\n",
      "(411, 26)\n"
     ]
    }
   ],
   "source": [
    "print(\"变量【总金额/用户数】的极值图形分布如下\")\n",
    "outlier_check(df_train,'总金额/用户数')\n",
    "print(\"删除变量【总金额/用户数100000以上的记录\")\n",
    "df_train=df_train[df_train['总金额/用户数']<75000]\n",
    "print(df_train.shape)"
   ]
  },
  {
   "cell_type": "code",
   "execution_count": 558,
   "metadata": {},
   "outputs": [
    {
     "data": {
      "text/html": [
       "<div>\n",
       "<style scoped>\n",
       "    .dataframe tbody tr th:only-of-type {\n",
       "        vertical-align: middle;\n",
       "    }\n",
       "\n",
       "    .dataframe tbody tr th {\n",
       "        vertical-align: top;\n",
       "    }\n",
       "\n",
       "    .dataframe thead th {\n",
       "        text-align: right;\n",
       "    }\n",
       "</style>\n",
       "<table border=\"1\" class=\"dataframe\">\n",
       "  <thead>\n",
       "    <tr style=\"text-align: right;\">\n",
       "      <th></th>\n",
       "      <th>客单价</th>\n",
       "      <th>用户数</th>\n",
       "      <th>总笔数/用户数</th>\n",
       "      <th>总金额/用户数</th>\n",
       "      <th>近12月有交易的月数</th>\n",
       "      <th>近1月交易天数</th>\n",
       "      <th>近3月交易天数</th>\n",
       "      <th>近6月交易天数</th>\n",
       "      <th>近12月交易天数</th>\n",
       "      <th>近1月交易笔数</th>\n",
       "      <th>...</th>\n",
       "      <th>近12月交易总金额</th>\n",
       "      <th>近1月22:00~04:00的交易总笔数</th>\n",
       "      <th>近1月22:00~04:00的交易总金额</th>\n",
       "      <th>近3月22:00~04:00的交易总笔数</th>\n",
       "      <th>近3月22:00~04:00的交易总金额</th>\n",
       "      <th>近6月22:00~04:00的交易总笔数</th>\n",
       "      <th>近6月22:00~04:00的交易总金额</th>\n",
       "      <th>近12月22:00~04:00的交易总笔数</th>\n",
       "      <th>近12月22:00~04:00的交易总金额</th>\n",
       "      <th>result</th>\n",
       "    </tr>\n",
       "  </thead>\n",
       "  <tbody>\n",
       "    <tr>\n",
       "      <th>5</th>\n",
       "      <td>1795.02</td>\n",
       "      <td>38.0</td>\n",
       "      <td>6.42</td>\n",
       "      <td>11525.94</td>\n",
       "      <td>8.0</td>\n",
       "      <td>11.0</td>\n",
       "      <td>33.0</td>\n",
       "      <td>59.0</td>\n",
       "      <td>71.0</td>\n",
       "      <td>40.0</td>\n",
       "      <td>...</td>\n",
       "      <td>437985.54</td>\n",
       "      <td>3.0</td>\n",
       "      <td>1929.0</td>\n",
       "      <td>13.0</td>\n",
       "      <td>9601.9</td>\n",
       "      <td>19.0</td>\n",
       "      <td>12089.9</td>\n",
       "      <td>22.0</td>\n",
       "      <td>12359.9</td>\n",
       "      <td>1</td>\n",
       "    </tr>\n",
       "    <tr>\n",
       "      <th>6</th>\n",
       "      <td>3991.39</td>\n",
       "      <td>17.0</td>\n",
       "      <td>14.29</td>\n",
       "      <td>57053.34</td>\n",
       "      <td>8.0</td>\n",
       "      <td>9.0</td>\n",
       "      <td>37.0</td>\n",
       "      <td>66.0</td>\n",
       "      <td>76.0</td>\n",
       "      <td>24.0</td>\n",
       "      <td>...</td>\n",
       "      <td>969906.80</td>\n",
       "      <td>4.0</td>\n",
       "      <td>42960.0</td>\n",
       "      <td>13.0</td>\n",
       "      <td>72728.0</td>\n",
       "      <td>18.0</td>\n",
       "      <td>95752.0</td>\n",
       "      <td>18.0</td>\n",
       "      <td>95752.0</td>\n",
       "      <td>1</td>\n",
       "    </tr>\n",
       "    <tr>\n",
       "      <th>8</th>\n",
       "      <td>3497.10</td>\n",
       "      <td>24.0</td>\n",
       "      <td>9.58</td>\n",
       "      <td>33513.89</td>\n",
       "      <td>6.0</td>\n",
       "      <td>17.0</td>\n",
       "      <td>47.0</td>\n",
       "      <td>78.0</td>\n",
       "      <td>78.0</td>\n",
       "      <td>38.0</td>\n",
       "      <td>...</td>\n",
       "      <td>804333.34</td>\n",
       "      <td>1.0</td>\n",
       "      <td>180.0</td>\n",
       "      <td>1.0</td>\n",
       "      <td>180.0</td>\n",
       "      <td>1.0</td>\n",
       "      <td>180.0</td>\n",
       "      <td>1.0</td>\n",
       "      <td>180.0</td>\n",
       "      <td>1</td>\n",
       "    </tr>\n",
       "    <tr>\n",
       "      <th>9</th>\n",
       "      <td>7245.16</td>\n",
       "      <td>21.0</td>\n",
       "      <td>10.05</td>\n",
       "      <td>72796.57</td>\n",
       "      <td>9.0</td>\n",
       "      <td>17.0</td>\n",
       "      <td>45.0</td>\n",
       "      <td>80.0</td>\n",
       "      <td>107.0</td>\n",
       "      <td>26.0</td>\n",
       "      <td>...</td>\n",
       "      <td>1528728.00</td>\n",
       "      <td>2.0</td>\n",
       "      <td>18942.0</td>\n",
       "      <td>4.0</td>\n",
       "      <td>27227.0</td>\n",
       "      <td>11.0</td>\n",
       "      <td>79743.0</td>\n",
       "      <td>11.0</td>\n",
       "      <td>79743.0</td>\n",
       "      <td>1</td>\n",
       "    </tr>\n",
       "    <tr>\n",
       "      <th>11</th>\n",
       "      <td>7525.96</td>\n",
       "      <td>43.0</td>\n",
       "      <td>4.09</td>\n",
       "      <td>30803.93</td>\n",
       "      <td>11.0</td>\n",
       "      <td>9.0</td>\n",
       "      <td>24.0</td>\n",
       "      <td>50.0</td>\n",
       "      <td>90.0</td>\n",
       "      <td>14.0</td>\n",
       "      <td>...</td>\n",
       "      <td>1324568.99</td>\n",
       "      <td>2.0</td>\n",
       "      <td>5192.0</td>\n",
       "      <td>8.0</td>\n",
       "      <td>37324.0</td>\n",
       "      <td>14.0</td>\n",
       "      <td>68418.0</td>\n",
       "      <td>15.0</td>\n",
       "      <td>88318.0</td>\n",
       "      <td>1</td>\n",
       "    </tr>\n",
       "  </tbody>\n",
       "</table>\n",
       "<p>5 rows × 26 columns</p>\n",
       "</div>"
      ],
      "text/plain": [
       "        客单价   用户数  总笔数/用户数   总金额/用户数  近12月有交易的月数  近1月交易天数  近3月交易天数  近6月交易天数  \\\n",
       "5   1795.02  38.0     6.42  11525.94         8.0     11.0     33.0     59.0   \n",
       "6   3991.39  17.0    14.29  57053.34         8.0      9.0     37.0     66.0   \n",
       "8   3497.10  24.0     9.58  33513.89         6.0     17.0     47.0     78.0   \n",
       "9   7245.16  21.0    10.05  72796.57         9.0     17.0     45.0     80.0   \n",
       "11  7525.96  43.0     4.09  30803.93        11.0      9.0     24.0     50.0   \n",
       "\n",
       "    近12月交易天数  近1月交易笔数  ...   近12月交易总金额  近1月22:00~04:00的交易总笔数  \\\n",
       "5       71.0     40.0  ...   437985.54                   3.0   \n",
       "6       76.0     24.0  ...   969906.80                   4.0   \n",
       "8       78.0     38.0  ...   804333.34                   1.0   \n",
       "9      107.0     26.0  ...  1528728.00                   2.0   \n",
       "11      90.0     14.0  ...  1324568.99                   2.0   \n",
       "\n",
       "    近1月22:00~04:00的交易总金额  近3月22:00~04:00的交易总笔数  近3月22:00~04:00的交易总金额  \\\n",
       "5                 1929.0                  13.0                9601.9   \n",
       "6                42960.0                  13.0               72728.0   \n",
       "8                  180.0                   1.0                 180.0   \n",
       "9                18942.0                   4.0               27227.0   \n",
       "11                5192.0                   8.0               37324.0   \n",
       "\n",
       "    近6月22:00~04:00的交易总笔数  近6月22:00~04:00的交易总金额  近12月22:00~04:00的交易总笔数  \\\n",
       "5                   19.0               12089.9                   22.0   \n",
       "6                   18.0               95752.0                   18.0   \n",
       "8                    1.0                 180.0                    1.0   \n",
       "9                   11.0               79743.0                   11.0   \n",
       "11                  14.0               68418.0                   15.0   \n",
       "\n",
       "    近12月22:00~04:00的交易总金额  result  \n",
       "5                 12359.9       1  \n",
       "6                 95752.0       1  \n",
       "8                   180.0       1  \n",
       "9                 79743.0       1  \n",
       "11                88318.0       1  \n",
       "\n",
       "[5 rows x 26 columns]"
      ]
     },
     "execution_count": 558,
     "metadata": {},
     "output_type": "execute_result"
    }
   ],
   "source": [
    "df_train.head()"
   ]
  },
  {
   "cell_type": "code",
   "execution_count": 559,
   "metadata": {},
   "outputs": [
    {
     "name": "stdout",
     "output_type": "stream",
     "text": [
      "(411, 26)\n"
     ]
    }
   ],
   "source": [
    "# df_train.rename(columns={\"近12月有交易的月数\":\"近12月月数\"},inplace=True)\n",
    "# print(\"变量【近12月有交易的月数】的极值图形分布如下\")\n",
    "# outlier_check(df_train,'近12月有交易的月数')\n",
    "# print(\"删除变量【近12月有交易的月数】100000以上的记录\")\n",
    "# df_train=df_train[df_train['近12月有交易的月数']<100000]\n",
    "print(df_train.shape)"
   ]
  },
  {
   "cell_type": "code",
   "execution_count": 560,
   "metadata": {},
   "outputs": [
    {
     "name": "stdout",
     "output_type": "stream",
     "text": [
      "变量【近1月交易天数】的极值图形分布如下\n"
     ]
    },
    {
     "data": {
      "image/png": "[encoded data removed]",
      "text/plain": [
       "<Figure size 432x288 with 1 Axes>"
      ]
     },
     "metadata": {
      "needs_background": "light"
     },
     "output_type": "display_data"
    },
    {
     "name": "stdout",
     "output_type": "stream",
     "text": [
      "删除变量【近1月交易天数】100000以上的记录\n",
      "(390, 26)\n"
     ]
    }
   ],
   "source": [
    "print(\"变量【近1月交易天数】的极值图形分布如下\")\n",
    "outlier_check(df_train,'近1月交易天数')\n",
    "print(\"删除变量【近1月交易天数】100000以上的记录\")\n",
    "df_train=df_train[df_train['近1月交易天数']<10]\n",
    "print(df_train.shape)"
   ]
  },
  {
   "cell_type": "code",
   "execution_count": 561,
   "metadata": {},
   "outputs": [
    {
     "name": "stdout",
     "output_type": "stream",
     "text": [
      "变量【近3月交易天数】的极值图形分布如下\n"
     ]
    },
    {
     "data": {
      "image/png": "[encoded data removed]",
      "text/plain": [
       "<Figure size 432x288 with 1 Axes>"
      ]
     },
     "metadata": {
      "needs_background": "light"
     },
     "output_type": "display_data"
    },
    {
     "name": "stdout",
     "output_type": "stream",
     "text": [
      "删除变量【近3月交易天数】40以上的记录\n",
      "(373, 26)\n"
     ]
    }
   ],
   "source": [
    "print(\"变量【近3月交易天数】的极值图形分布如下\")\n",
    "outlier_check(df_train,'近3月交易天数')\n",
    "print(\"删除变量【近3月交易天数】40以上的记录\")\n",
    "df_train=df_train[df_train['近3月交易天数']<25]\n",
    "print(df_train.shape)"
   ]
  },
  {
   "cell_type": "code",
   "execution_count": 562,
   "metadata": {},
   "outputs": [
    {
     "name": "stdout",
     "output_type": "stream",
     "text": [
      "变量【近6月交易天数】的极值图形分布如下\n"
     ]
    },
    {
     "data": {
      "image/png": "[encoded data removed]",
      "text/plain": [
       "<Figure size 432x288 with 1 Axes>"
      ]
     },
     "metadata": {
      "needs_background": "light"
     },
     "output_type": "display_data"
    },
    {
     "name": "stdout",
     "output_type": "stream",
     "text": [
      "删除变量【近6月交易天数】60以上的记录\n",
      "(359, 26)\n"
     ]
    }
   ],
   "source": [
    "print(\"变量【近6月交易天数】的极值图形分布如下\")\n",
    "outlier_check(df_train,'近6月交易天数')\n",
    "print(\"删除变量【近6月交易天数】60以上的记录\")\n",
    "df_train=df_train[df_train['近6月交易天数']<40]\n",
    "print(df_train.shape)"
   ]
  },
  {
   "cell_type": "code",
   "execution_count": 563,
   "metadata": {},
   "outputs": [
    {
     "name": "stdout",
     "output_type": "stream",
     "text": [
      "变量【近12月交易天数】的极值图形分布如下\n"
     ]
    },
    {
     "data": {
      "image/png": "[encoded data removed]",
      "text/plain": [
       "<Figure size 432x288 with 1 Axes>"
      ]
     },
     "metadata": {
      "needs_background": "light"
     },
     "output_type": "display_data"
    },
    {
     "name": "stdout",
     "output_type": "stream",
     "text": [
      "删除变量【近12月交易天数】80以上的记录\n",
      "(356, 26)\n"
     ]
    }
   ],
   "source": [
    "print(\"变量【近12月交易天数】的极值图形分布如下\")\n",
    "outlier_check(df_train,'近12月交易天数')\n",
    "print(\"删除变量【近12月交易天数】80以上的记录\")\n",
    "df_train=df_train[df_train['近12月交易天数']<50]\n",
    "print(df_train.shape)"
   ]
  },
  {
   "cell_type": "code",
   "execution_count": 564,
   "metadata": {},
   "outputs": [
    {
     "name": "stdout",
     "output_type": "stream",
     "text": [
      "变量【近1月交易笔数】的极值图形分布如下\n"
     ]
    },
    {
     "data": {
      "image/png": "[encoded data removed]",
      "text/plain": [
       "<Figure size 432x288 with 1 Axes>"
      ]
     },
     "metadata": {
      "needs_background": "light"
     },
     "output_type": "display_data"
    },
    {
     "name": "stdout",
     "output_type": "stream",
     "text": [
      "删除变量【近1月交易笔数】25以上的记录\n",
      "(348, 26)\n"
     ]
    }
   ],
   "source": [
    "print(\"变量【近1月交易笔数】的极值图形分布如下\")\n",
    "outlier_check(df_train,'近1月交易笔数')\n",
    "print(\"删除变量【近1月交易笔数】25以上的记录\")\n",
    "df_train=df_train[df_train['近1月交易笔数']<15]\n",
    "print(df_train.shape)"
   ]
  },
  {
   "cell_type": "code",
   "execution_count": 565,
   "metadata": {},
   "outputs": [
    {
     "name": "stdout",
     "output_type": "stream",
     "text": [
      "变量【近3月交易笔数】的极值图形分布如下\n"
     ]
    },
    {
     "data": {
      "image/png": "[encoded data removed]",
      "text/plain": [
       "<Figure size 432x288 with 1 Axes>"
      ]
     },
     "metadata": {
      "needs_background": "light"
     },
     "output_type": "display_data"
    },
    {
     "name": "stdout",
     "output_type": "stream",
     "text": [
      "删除变量【近3月交易笔数】80以上的记录\n",
      "(346, 26)\n"
     ]
    }
   ],
   "source": [
    "print(\"变量【近3月交易笔数】的极值图形分布如下\")\n",
    "outlier_check(df_train,'近3月交易笔数')\n",
    "print(\"删除变量【近3月交易笔数】80以上的记录\")\n",
    "df_train=df_train[df_train['近3月交易笔数']<40]\n",
    "print(df_train.shape)"
   ]
  },
  {
   "cell_type": "code",
   "execution_count": 566,
   "metadata": {},
   "outputs": [
    {
     "name": "stdout",
     "output_type": "stream",
     "text": [
      "变量【近6月交易笔数】的极值图形分布如下\n"
     ]
    },
    {
     "data": {
      "image/png": "[encoded data removed]",
      "text/plain": [
       "<Figure size 432x288 with 1 Axes>"
      ]
     },
     "metadata": {
      "needs_background": "light"
     },
     "output_type": "display_data"
    },
    {
     "name": "stdout",
     "output_type": "stream",
     "text": [
      "删除变量【近6月交易笔数】120以上的记录\n",
      "(340, 26)\n"
     ]
    }
   ],
   "source": [
    "print(\"变量【近6月交易笔数】的极值图形分布如下\")\n",
    "outlier_check(df_train,'近6月交易笔数')\n",
    "print(\"删除变量【近6月交易笔数】120以上的记录\")\n",
    "df_train=df_train[df_train['近6月交易笔数']<60]\n",
    "print(df_train.shape)"
   ]
  },
  {
   "cell_type": "code",
   "execution_count": 567,
   "metadata": {},
   "outputs": [
    {
     "name": "stdout",
     "output_type": "stream",
     "text": [
      "变量【近12月交易笔数】的极值图形分布如下\n"
     ]
    },
    {
     "data": {
      "image/png": "[encoded data removed]",
      "text/plain": [
       "<Figure size 432x288 with 1 Axes>"
      ]
     },
     "metadata": {
      "needs_background": "light"
     },
     "output_type": "display_data"
    },
    {
     "name": "stdout",
     "output_type": "stream",
     "text": [
      "删除变量【近12月交易笔数】120以上的记录\n",
      "(338, 26)\n"
     ]
    }
   ],
   "source": [
    "print(\"变量【近12月交易笔数】的极值图形分布如下\")\n",
    "outlier_check(df_train,'近12月交易笔数')\n",
    "print(\"删除变量【近12月交易笔数】120以上的记录\")\n",
    "df_train=df_train[df_train['近12月交易笔数']<67]\n",
    "print(df_train.shape)"
   ]
  },
  {
   "cell_type": "code",
   "execution_count": 568,
   "metadata": {},
   "outputs": [
    {
     "name": "stdout",
     "output_type": "stream",
     "text": [
      "变量【近1月交易总金额】的极值图形分布如下\n"
     ]
    },
    {
     "data": {
      "image/png": "[encoded data removed]",
      "text/plain": [
       "<Figure size 432x288 with 1 Axes>"
      ]
     },
     "metadata": {
      "needs_background": "light"
     },
     "output_type": "display_data"
    },
    {
     "name": "stdout",
     "output_type": "stream",
     "text": [
      "删除变量【近1月交易总金额】120以上的记录\n",
      "(323, 26)\n"
     ]
    }
   ],
   "source": [
    "print(\"变量【近1月交易总金额】的极值图形分布如下\")\n",
    "outlier_check(df_train,'近1月交易总金额')\n",
    "print(\"删除变量【近1月交易总金额】120以上的记录\")\n",
    "df_train=df_train[df_train['近1月交易总金额']<100000]\n",
    "print(df_train.shape)"
   ]
  },
  {
   "cell_type": "code",
   "execution_count": 569,
   "metadata": {},
   "outputs": [
    {
     "name": "stdout",
     "output_type": "stream",
     "text": [
      "变量【近3月交易总金额】的极值图形分布如下\n"
     ]
    },
    {
     "data": {
      "image/png": "[encoded data removed]",
      "text/plain": [
       "<Figure size 432x288 with 1 Axes>"
      ]
     },
     "metadata": {
      "needs_background": "light"
     },
     "output_type": "display_data"
    },
    {
     "name": "stdout",
     "output_type": "stream",
     "text": [
      "删除变量【近3月交易总金额】120以上的记录\n",
      "(316, 26)\n"
     ]
    }
   ],
   "source": [
    "print(\"变量【近3月交易总金额】的极值图形分布如下\")\n",
    "outlier_check(df_train,'近3月交易总金额')\n",
    "print(\"删除变量【近3月交易总金额】120以上的记录\")\n",
    "df_train=df_train[df_train['近3月交易总金额']<200000]\n",
    "print(df_train.shape)"
   ]
  },
  {
   "cell_type": "code",
   "execution_count": 570,
   "metadata": {},
   "outputs": [
    {
     "name": "stdout",
     "output_type": "stream",
     "text": [
      "变量【近6月交易总金额】的极值图形分布如下\n"
     ]
    },
    {
     "data": {
      "image/png": "[encoded data removed]",
      "text/plain": [
       "<Figure size 432x288 with 1 Axes>"
      ]
     },
     "metadata": {
      "needs_background": "light"
     },
     "output_type": "display_data"
    },
    {
     "name": "stdout",
     "output_type": "stream",
     "text": [
      "删除变量【近6月交易总金额】120以上的记录\n",
      "(304, 26)\n"
     ]
    }
   ],
   "source": [
    "print(\"变量【近6月交易总金额】的极值图形分布如下\")\n",
    "outlier_check(df_train,'近6月交易总金额')\n",
    "print(\"删除变量【近6月交易总金额】120以上的记录\")\n",
    "df_train=df_train[df_train['近6月交易总金额']<300000]\n",
    "print(df_train.shape)"
   ]
  },
  {
   "cell_type": "code",
   "execution_count": 571,
   "metadata": {},
   "outputs": [
    {
     "name": "stdout",
     "output_type": "stream",
     "text": [
      "变量【近12月交易总金额】的极值图形分布如下\n"
     ]
    },
    {
     "data": {
      "image/png": "[encoded data removed]",
      "text/plain": [
       "<Figure size 432x288 with 1 Axes>"
      ]
     },
     "metadata": {
      "needs_background": "light"
     },
     "output_type": "display_data"
    },
    {
     "name": "stdout",
     "output_type": "stream",
     "text": [
      "删除变量【近12月交易总金额】120以上的记录\n",
      "(296, 26)\n"
     ]
    }
   ],
   "source": [
    "print(\"变量【近12月交易总金额】的极值图形分布如下\")\n",
    "outlier_check(df_train,'近12月交易总金额')\n",
    "print(\"删除变量【近12月交易总金额】120以上的记录\")\n",
    "df_train=df_train[df_train['近12月交易总金额']<300000]\n",
    "print(df_train.shape)"
   ]
  },
  {
   "cell_type": "code",
   "execution_count": 572,
   "metadata": {},
   "outputs": [
    {
     "name": "stdout",
     "output_type": "stream",
     "text": [
      "变量【近1月22:00~04:00的交易总笔数】的极值图形分布如下\n"
     ]
    },
    {
     "data": {
      "image/png": "[encoded data removed]",
      "text/plain": [
       "<Figure size 432x288 with 1 Axes>"
      ]
     },
     "metadata": {
      "needs_background": "light"
     },
     "output_type": "display_data"
    },
    {
     "name": "stdout",
     "output_type": "stream",
     "text": [
      "删除变量【近1月22:00~04:00的交易总笔数】120以上的记录\n",
      "(282, 26)\n"
     ]
    }
   ],
   "source": [
    "print(\"变量【近1月22:00~04:00的交易总笔数】的极值图形分布如下\")\n",
    "outlier_check(df_train,'近1月22:00~04:00的交易总笔数')\n",
    "print(\"删除变量【近1月22:00~04:00的交易总笔数】120以上的记录\")\n",
    "df_train=df_train[df_train['近1月22:00~04:00的交易总笔数']<4]\n",
    "print(df_train.shape)"
   ]
  },
  {
   "cell_type": "code",
   "execution_count": 573,
   "metadata": {},
   "outputs": [
    {
     "name": "stdout",
     "output_type": "stream",
     "text": [
      "变量【近3月22:00~04:00的交易总笔数】的极值图形分布如下\n"
     ]
    },
    {
     "data": {
      "image/png": "[encoded data removed]",
      "text/plain": [
       "<Figure size 432x288 with 1 Axes>"
      ]
     },
     "metadata": {
      "needs_background": "light"
     },
     "output_type": "display_data"
    },
    {
     "name": "stdout",
     "output_type": "stream",
     "text": [
      "删除变量【近3月22:00~04:00的交易总笔数】120以上的记录\n",
      "(263, 26)\n"
     ]
    }
   ],
   "source": [
    "print(\"变量【近3月22:00~04:00的交易总笔数】的极值图形分布如下\")\n",
    "outlier_check(df_train,'近3月22:00~04:00的交易总笔数')\n",
    "print(\"删除变量【近3月22:00~04:00的交易总笔数】120以上的记录\")\n",
    "df_train=df_train[df_train['近3月22:00~04:00的交易总笔数']<6]\n",
    "print(df_train.shape)"
   ]
  },
  {
   "cell_type": "code",
   "execution_count": 574,
   "metadata": {},
   "outputs": [
    {
     "name": "stdout",
     "output_type": "stream",
     "text": [
      "变量【近6月22:00~04:00的交易总笔数】的极值图形分布如下\n"
     ]
    },
    {
     "data": {
      "image/png": "[encoded data removed]",
      "text/plain": [
       "<Figure size 432x288 with 1 Axes>"
      ]
     },
     "metadata": {
      "needs_background": "light"
     },
     "output_type": "display_data"
    },
    {
     "name": "stdout",
     "output_type": "stream",
     "text": [
      "删除变量【近6月22:00~04:00的交易总笔数】120以上的记录\n",
      "(258, 26)\n"
     ]
    }
   ],
   "source": [
    "print(\"变量【近6月22:00~04:00的交易总笔数】的极值图形分布如下\")\n",
    "outlier_check(df_train,'近6月22:00~04:00的交易总笔数')\n",
    "print(\"删除变量【近6月22:00~04:00的交易总笔数】120以上的记录\")\n",
    "df_train=df_train[df_train['近6月22:00~04:00的交易总笔数']<8]\n",
    "print(df_train.shape)"
   ]
  },
  {
   "cell_type": "code",
   "execution_count": 575,
   "metadata": {},
   "outputs": [
    {
     "name": "stdout",
     "output_type": "stream",
     "text": [
      "变量【近12月22:00~04:00的交易总笔数】的极值图形分布如下\n"
     ]
    },
    {
     "data": {
      "image/png": "[encoded data removed]",
      "text/plain": [
       "<Figure size 432x288 with 1 Axes>"
      ]
     },
     "metadata": {
      "needs_background": "light"
     },
     "output_type": "display_data"
    },
    {
     "name": "stdout",
     "output_type": "stream",
     "text": [
      "删除变量【近12月22:00~04:00的交易总笔数】120以上的记录\n",
      "(246, 26)\n"
     ]
    }
   ],
   "source": [
    "print(\"变量【近12月22:00~04:00的交易总笔数】的极值图形分布如下\")\n",
    "outlier_check(df_train,'近12月22:00~04:00的交易总笔数')\n",
    "print(\"删除变量【近12月22:00~04:00的交易总笔数】120以上的记录\")\n",
    "df_train=df_train[df_train['近12月22:00~04:00的交易总笔数']<8]\n",
    "print(df_train.shape)"
   ]
  },
  {
   "cell_type": "code",
   "execution_count": 576,
   "metadata": {},
   "outputs": [
    {
     "name": "stdout",
     "output_type": "stream",
     "text": [
      "变量【近1月22:00~04:00的交易总金额】的极值图形分布如下\n"
     ]
    },
    {
     "data": {
      "image/png": "[encoded data removed]",
      "text/plain": [
       "<Figure size 432x288 with 1 Axes>"
      ]
     },
     "metadata": {
      "needs_background": "light"
     },
     "output_type": "display_data"
    },
    {
     "name": "stdout",
     "output_type": "stream",
     "text": [
      "删除变量【近1月22:00~04:00的交易总金额】120以上的记录\n",
      "(236, 26)\n"
     ]
    }
   ],
   "source": [
    "print(\"变量【近1月22:00~04:00的交易总金额】的极值图形分布如下\")\n",
    "outlier_check(df_train,'近1月22:00~04:00的交易总金额')\n",
    "print(\"删除变量【近1月22:00~04:00的交易总金额】120以上的记录\")\n",
    "df_train=df_train[df_train['近1月22:00~04:00的交易总金额']<24000]\n",
    "print(df_train.shape)"
   ]
  },
  {
   "cell_type": "code",
   "execution_count": 577,
   "metadata": {},
   "outputs": [
    {
     "name": "stdout",
     "output_type": "stream",
     "text": [
      "变量【近3月22:00~04:00的交易总金额】的极值图形分布如下\n"
     ]
    },
    {
     "data": {
      "image/png": "[encoded data removed]",
      "text/plain": [
       "<Figure size 432x288 with 1 Axes>"
      ]
     },
     "metadata": {
      "needs_background": "light"
     },
     "output_type": "display_data"
    },
    {
     "name": "stdout",
     "output_type": "stream",
     "text": [
      "删除变量【近3月22:00~04:00的交易总金额】120以上的记录\n",
      "(229, 26)\n"
     ]
    }
   ],
   "source": [
    "print(\"变量【近3月22:00~04:00的交易总金额】的极值图形分布如下\")\n",
    "outlier_check(df_train,'近3月22:00~04:00的交易总金额')\n",
    "print(\"删除变量【近3月22:00~04:00的交易总金额】120以上的记录\")\n",
    "df_train=df_train[df_train['近3月22:00~04:00的交易总金额']<30000]\n",
    "print(df_train.shape)"
   ]
  },
  {
   "cell_type": "code",
   "execution_count": 578,
   "metadata": {},
   "outputs": [
    {
     "name": "stdout",
     "output_type": "stream",
     "text": [
      "变量【近6月22:00~04:00的交易总金额】的极值图形分布如下\n"
     ]
    },
    {
     "data": {
      "image/png": "[encoded data removed]",
      "text/plain": [
       "<Figure size 432x288 with 1 Axes>"
      ]
     },
     "metadata": {
      "needs_background": "light"
     },
     "output_type": "display_data"
    },
    {
     "name": "stdout",
     "output_type": "stream",
     "text": [
      "删除变量【近6月22:00~04:00的交易总金额】120以上的记录\n",
      "(221, 26)\n"
     ]
    }
   ],
   "source": [
    "print(\"变量【近6月22:00~04:00的交易总金额】的极值图形分布如下\")\n",
    "outlier_check(df_train,'近6月22:00~04:00的交易总金额')\n",
    "print(\"删除变量【近6月22:00~04:00的交易总金额】120以上的记录\")\n",
    "df_train=df_train[df_train['近6月22:00~04:00的交易总金额']<32000]\n",
    "print(df_train.shape)"
   ]
  },
  {
   "cell_type": "code",
   "execution_count": 583,
   "metadata": {},
   "outputs": [
    {
     "name": "stdout",
     "output_type": "stream",
     "text": [
      "删除变量【近12月22:00~04:00的交易总金额】120以上的记录\n",
      "(219, 26)\n"
     ]
    }
   ],
   "source": [
    "# print(\"变量【近12月22:00~04:00的交易总金额】的极值图形分布如下\")\n",
    "# outlier_check(df_train,'近12月22:00~04:00的交易总金额')\n",
    "print(\"删除变量【近12月22:00~04:00的交易总金额】120以上的记录\")\n",
    "df_train=df_train[df_train['近12月22:00~04:00的交易总金额']<30000]\n",
    "print(df_train.shape)"
   ]
  },
  {
   "cell_type": "code",
   "execution_count": null,
   "metadata": {},
   "outputs": [],
   "source": [
    "df_train"
   ]
  },
  {
   "cell_type": "code",
   "execution_count": 584,
   "metadata": {},
   "outputs": [],
   "source": [
    "df_train.to_excel('order_is_cash_2_hz_new.xlsx',index=False)"
   ]
  },
  {
   "cell_type": "code",
   "execution_count": null,
   "metadata": {},
   "outputs": [],
   "source": []
  }
 ],
 "metadata": {
  "kernelspec": {
   "display_name": "Python 3",
   "language": "python",
   "name": "python3"
  },
  "language_info": {
   "codemirror_mode": {
    "name": "ipython",
    "version": 3
   },
   "file_extension": ".py",
   "mimetype": "text/x-python",
   "name": "python",
   "nbconvert_exporter": "python",
   "pygments_lexer": "ipython3",
   "version": "3.7.3"
  }
 },
 "nbformat": 4,
 "nbformat_minor": 2
}
